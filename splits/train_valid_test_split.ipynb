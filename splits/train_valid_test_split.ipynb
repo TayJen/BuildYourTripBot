{
  "nbformat": 4,
  "nbformat_minor": 0,
  "metadata": {
    "colab": {
      "name": "train/valid/test split.ipynb",
      "provenance": []
    },
    "kernelspec": {
      "name": "python3",
      "display_name": "Python 3"
    },
    "language_info": {
      "name": "python"
    }
  },
  "cells": [
    {
      "cell_type": "code",
      "source": [
        "from google.colab import drive\n",
        "drive.mount('/content/drive')"
      ],
      "metadata": {
        "colab": {
          "base_uri": "https://localhost:8080/"
        },
        "id": "6_LzZD2mvqL_",
        "outputId": "3c8b79cb-84ab-46ba-8bea-ff11e190cb17"
      },
      "execution_count": 9,
      "outputs": [
        {
          "output_type": "stream",
          "name": "stdout",
          "text": [
            "Drive already mounted at /content/drive; to attempt to forcibly remount, call drive.mount(\"/content/drive\", force_remount=True).\n"
          ]
        }
      ]
    },
    {
      "cell_type": "code",
      "source": [
        "import os\n",
        "\n",
        "print(os.listdir('/content/drive/MyDrive/Landmark App/Data'))"
      ],
      "metadata": {
        "colab": {
          "base_uri": "https://localhost:8080/"
        },
        "id": "z9LNFuDnz5JG",
        "outputId": "f9395d29-3c83-4fb0-ef06-58344d0fa99d"
      },
      "execution_count": 10,
      "outputs": [
        {
          "output_type": "stream",
          "name": "stdout",
          "text": [
            "['7. Церковь Вознесения в Коломенском', '1. Московский Кремль и Красная площадь', '2. Храм Василия Блаженного', '6. Новодевичий монастырь', '8. Собор Непорочного Зачатия Пресвятой Девы Марии', '5. Храм Христа Спасителя', '9. Музей-заповедник Царицино', '3. Парк «Зарядье»', '4. Москва-Сити', '10. Кремль в Измайлово', '11. Усадьба Кусково', '12. Крутицкое подворье', '13. Большой театр', '14. Исторический музей', '15. Цирк на Цветном бульваре', '16. Музей изобразительных искусств имени Пушкина', '17. Спорткомплекс Лужники', '18. Зоопарк', '19. Останкинская телебашня', '20. Триумфальная Арка', '21. Сталинские Высотки', '22. ГУМ']\n"
          ]
        }
      ]
    },
    {
      "cell_type": "code",
      "source": [
        "import shutil\n",
        "\n",
        "shutil.rmtree('/content/Split Data')"
      ],
      "metadata": {
        "id": "dQO6rA9NMREy"
      },
      "execution_count": 11,
      "outputs": []
    },
    {
      "cell_type": "code",
      "execution_count": 12,
      "metadata": {
        "id": "knFQAgP1tLp6"
      },
      "outputs": [],
      "source": [
        "import os\n",
        "\n",
        "# Our path\n",
        "# path = '/content'\n",
        "foldername = 'Split Data'\n",
        "path = '/content/drive/MyDrive/Landmark App/'\n",
        "\n",
        "path = os.path.join(path, foldername)\n",
        "# New folder\n",
        "os.mkdir(path)\n",
        "\n",
        "source = '/content/drive/MyDrive/Landmark App/Data'\n",
        "splits = ['Train', 'Validation', 'Test']\n",
        "for split in splits:\n",
        "    dest = os.path.join(path, split)\n",
        "    os.mkdir(dest)\n",
        "    for landmark in os.listdir(source):\n",
        "        os.mkdir(os.path.join(dest, landmark))"
      ]
    },
    {
      "cell_type": "code",
      "source": [
        "os.listdir(os.path.join(source, '7. Церковь Вознесения в Коломенском'))"
      ],
      "metadata": {
        "colab": {
          "base_uri": "https://localhost:8080/"
        },
        "id": "k6BmdOOuG1U-",
        "outputId": "c3a9e178-3ad6-4cbd-b011-73bfc14a5b41"
      },
      "execution_count": 13,
      "outputs": [
        {
          "output_type": "execute_result",
          "data": {
            "text/plain": [
              "['1.jpg',\n",
              " '2.jpg',\n",
              " '3.jpg',\n",
              " '4.jpg',\n",
              " '5.jpg',\n",
              " '6.jpg',\n",
              " '7.jpg',\n",
              " '8.jpg',\n",
              " '9.jpg',\n",
              " '10.jpg',\n",
              " '11.jpg',\n",
              " '12.jpg',\n",
              " '13.jpg',\n",
              " '14.jpg',\n",
              " '15.jpg',\n",
              " '16.jpg',\n",
              " '17.jpg',\n",
              " '18.jpg',\n",
              " '19.jpg',\n",
              " '20.jpg',\n",
              " '21.jpg',\n",
              " '22.jpg',\n",
              " '23.jpg',\n",
              " '24.jpg',\n",
              " '25.jpg',\n",
              " '26.jpg',\n",
              " '27.jpg',\n",
              " '28.jpg',\n",
              " '29.jpg',\n",
              " '30.jpg',\n",
              " '31.jpg',\n",
              " '32.jpg',\n",
              " '33.jpg',\n",
              " '34.jpg',\n",
              " '35.jpg',\n",
              " '36.jpg',\n",
              " '37.jpg',\n",
              " '38.jpg',\n",
              " '40.jpg',\n",
              " '39.jpg',\n",
              " '41.jpg',\n",
              " '42.jpg',\n",
              " '43.jpg',\n",
              " '44.jpg',\n",
              " '45.jpeg',\n",
              " '46.jpg',\n",
              " '47.jpg',\n",
              " '48.jpg',\n",
              " '49.jpg',\n",
              " '50.jpg',\n",
              " '51.jpg',\n",
              " '52.jpg',\n",
              " '53.jpg',\n",
              " '54.jpg']"
            ]
          },
          "metadata": {},
          "execution_count": 13
        }
      ]
    },
    {
      "cell_type": "code",
      "source": [
        "import numpy as np\n",
        "from shutil import copy\n",
        "\n",
        "\n",
        "# path = '/content'\n",
        "path = '/content/drive/MyDrive/Landmark App'\n",
        "\n",
        "train_dir = os.path.join(path, 'Split Data/Train')\n",
        "valid_dir = os.path.join(path, 'Split Data/Validation')\n",
        "test_dir = os.path.join(path, 'Split Data/Test')\n",
        "\n",
        "for landmark in os.listdir(source):\n",
        "    # Source of one landmark\n",
        "    source_land = os.path.join(source, landmark)\n",
        "    # List of images names there\n",
        "    images_list = os.listdir(source_land)\n",
        "    # Random shuffling\n",
        "    images_shuffled = np.random.permutation(images_list)\n",
        "\n",
        "    train_dir_land = os.path.join(train_dir, landmark)\n",
        "    valid_dir_land = os.path.join(valid_dir, landmark)\n",
        "    test_dir_land = os.path.join(test_dir, landmark)\n",
        "\n",
        "    for i, img in enumerate(images_shuffled):\n",
        "        if i >= 6:\n",
        "            copy(os.path.join(source_land, img), train_dir_land)\n",
        "        elif i >= 3:\n",
        "            copy(os.path.join(source_land, img), valid_dir_land)\n",
        "        else:\n",
        "            copy(os.path.join(source_land, img), test_dir_land)"
      ],
      "metadata": {
        "id": "Rip4IErV0ALB"
      },
      "execution_count": 14,
      "outputs": []
    },
    {
      "cell_type": "code",
      "source": [
        "os.listdir('/content/drive/MyDrive/Landmark App/Split Data/Test/1. Московский Кремль и Красная площадь')"
      ],
      "metadata": {
        "colab": {
          "base_uri": "https://localhost:8080/"
        },
        "id": "D7uOItrVG1W_",
        "outputId": "724ada37-72de-486a-d11d-9aa16b7cde41"
      },
      "execution_count": 15,
      "outputs": [
        {
          "output_type": "execute_result",
          "data": {
            "text/plain": [
              "['73.jpg', '50.jpg', '66.jpg']"
            ]
          },
          "metadata": {},
          "execution_count": 15
        }
      ]
    },
    {
      "cell_type": "code",
      "source": [
        ""
      ],
      "metadata": {
        "id": "7i5HsMkqG1ZL"
      },
      "execution_count": null,
      "outputs": []
    },
    {
      "cell_type": "code",
      "source": [
        ""
      ],
      "metadata": {
        "id": "hO2Y5RR3G1bT"
      },
      "execution_count": null,
      "outputs": []
    }
  ]
}